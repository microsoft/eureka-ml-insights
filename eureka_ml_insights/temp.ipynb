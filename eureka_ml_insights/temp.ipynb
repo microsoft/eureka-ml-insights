{
 "cells": [
  {
   "cell_type": "code",
   "execution_count": 6,
   "id": "bdf9506d",
   "metadata": {},
   "outputs": [],
   "source": [
    "# list all .py files in the current directory and its subdirectories recursively\n",
    "import os\n",
    "def list_python_files(directory):\n",
    "    python_files = []\n",
    "    for root, dirs, files in os.walk(directory):\n",
    "        for file in files:\n",
    "            if file.endswith('.py') and not file.startswith('__') and \"test\" not in file:\n",
    "                python_files.append(os.path.join(root, file))\n",
    "    return python_files\n",
    "\n",
    "files = list_python_files(os.getcwd())  "
   ]
  },
  {
   "cell_type": "code",
   "execution_count": 7,
   "id": "ba0b2e95",
   "metadata": {},
   "outputs": [
    {
     "data": {
      "text/plain": [
       "73"
      ]
     },
     "execution_count": 7,
     "metadata": {},
     "output_type": "execute_result"
    }
   ],
   "source": [
    "len(files)"
   ]
  },
  {
   "cell_type": "code",
   "execution_count": 13,
   "id": "7d933d99",
   "metadata": {},
   "outputs": [],
   "source": [
    "# write the list in a csv file with a single column \"file_path\"\n",
    "import csv\n",
    "with open('python_files.csv', 'w', newline='') as csvfile:\n",
    "    writer = csv.writer(csvfile)\n",
    "    writer.writerow(['file_path'])  # Write header\n",
    "    for file in files:\n",
    "        writer.writerow([file])  # Write each file path in a new row"
   ]
  },
  {
   "cell_type": "code",
   "execution_count": null,
   "id": "61464a1a",
   "metadata": {},
   "outputs": [],
   "source": []
  }
 ],
 "metadata": {
  "kernelspec": {
   "display_name": "myenv",
   "language": "python",
   "name": "python3"
  },
  "language_info": {
   "codemirror_mode": {
    "name": "ipython",
    "version": 3
   },
   "file_extension": ".py",
   "mimetype": "text/x-python",
   "name": "python",
   "nbconvert_exporter": "python",
   "pygments_lexer": "ipython3",
   "version": "3.11.8"
  }
 },
 "nbformat": 4,
 "nbformat_minor": 5
}
